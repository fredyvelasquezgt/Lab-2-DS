{
 "cells": [
  {
   "cell_type": "markdown",
   "source": [
    "# Laboratorio 2\n",
    "\n",
    "## Series de tiempo\n",
    "\n",
    "### Autores\n",
    "\n",
    "- Angel Higueros\n",
    "- Fredy Velasquez"
   ],
   "metadata": {}
  }
 ],
 "metadata": {
  "orig_nbformat": 4,
  "language_info": {
   "name": "python"
  }
 },
 "nbformat": 4,
 "nbformat_minor": 2
}